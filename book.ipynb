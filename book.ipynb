{
 "cells": [
  {
   "cell_type": "code",
   "execution_count": null,
   "metadata": {},
   "outputs": [],
   "source": [
    "import pickle\n",
    "\n",
    "from selenium import webdriver\n",
    "from selenium.webdriver.common.by import By\n",
    "from selenium.webdriver.support.ui import WebDriverWait\n",
    "from selenium.webdriver.chrome.options import Options\n",
    "from selenium.webdriver.support import expected_conditions as EC\n",
    "from selenium.webdriver.common.action_chains import ActionChains\n",
    "from datetime import datetime, timedelta\n",
    "\n",
    "# link = 'https://membership.gocrimson.com/program?classificationid=dc42ec33-82df-44ca-b06c-109c3685395d'\n",
    "# driver.get(link)\n"
   ]
  },
  {
   "cell_type": "code",
   "execution_count": 49,
   "metadata": {},
   "outputs": [],
   "source": [
    "chrome_options = Options()\n",
    "chrome_options.add_experimental_option(\"debuggerAddress\", \"localhost:9222\")\n",
    "\n",
    "# service = Service()  # You can specify the path to chromedriver here if needed\n",
    "# driver = webdriver.Chrome(service=service, options=chrome_options)\n",
    "driver = webdriver.Chrome(options=chrome_options)\n",
    "\n",
    "link = 'https://membership.gocrimson.com/program?classificationid=dc42ec33-82df-44ca-b06c-109c3685395d'\n",
    "driver.get(link)\n"
   ]
  },
  {
   "cell_type": "code",
   "execution_count": 474,
   "metadata": {},
   "outputs": [],
   "source": [
    "driver.maximize_window()\n",
    "cookie_button = driver.find_element(By.ID, 'gdpr-cookie-accept')\n",
    "cookie_button.click()"
   ]
  },
  {
   "cell_type": "code",
   "execution_count": 475,
   "metadata": {},
   "outputs": [],
   "source": [
    "elements = driver.find_elements(By.CLASS_NAME, \"img-link\")\n",
    "courts = {}\n",
    "for element in elements:\n",
    "    court = element.text.split('\\n')[0]\n",
    "    court_link = element.get_attribute('href')\n",
    "    courts[court] = court_link"
   ]
  },
  {
   "cell_type": "code",
   "execution_count": 476,
   "metadata": {},
   "outputs": [],
   "source": [
    "    #If select date button\n",
    "    # select_date_button = WebDriverWait(driver, 10).until(EC.presence_of_element_located((By.CLASS_NAME, 'selectDateBtn')))\n",
    "    # select_date_button = driver.find_elements(By.CLASS_NAME, 'selectDateBtn')\n",
    "    # select_date_button.click()\n",
    "    # next_week = driver.find_elements(By.XPATH,f'//td[@year={year} and @month={month} and @day={day}]')\n",
    "    # next_week.click()\n",
    "    # ok_button = driver.find_elements(By.XPATH,'//button[text()=\"Ok\"]')[0].click()"
   ]
  },
  {
   "cell_type": "code",
   "execution_count": 477,
   "metadata": {},
   "outputs": [],
   "source": [
    "def go_to_right_day(wait):\n",
    "    given_date = datetime.today() \n",
    "\n",
    "    # Just making sure next day is there before we click the show more dates button\n",
    "    next_day = given_date + timedelta(days=1)\n",
    "    # Extract next dayyear, month, and day\n",
    "    nd_year, nd_month, nd_day = next_day.year, next_day.month, next_day.day\n",
    "    nd_year = str(nd_year)\n",
    "    nd_month = str(nd_month)\n",
    "    nd_day = str(nd_day)\n",
    "    bad_class=\"single-date-select-mobile\"\n",
    "    xpath = f'//button[@data-year={nd_year} and @data-month={nd_month} and @data-day={nd_day} and not(contains(@class,\"{bad_class}\"))]'\n",
    "    next_day = wait.until(EC.presence_of_all_elements_located((By.XPATH, xpath)))\n",
    "    if len(next_day) != 1:\n",
    "        print(\"Next day not working\")\n",
    "    next_day[0].click()\n",
    "\n",
    "    right_arrow_class = 'single-date-right-arrow'\n",
    "    xpath = f'//button[contains(@class,\"{right_arrow_class}\")]'\n",
    "    right_arrow = driver.find_elements(By.XPATH, xpath)\n",
    "    if len(right_arrow) != 1:\n",
    "        print(\"Right arrow not found, just skip for now\")\n",
    "    else:\n",
    "        right_arrow[0].click()\n",
    "\n",
    "    # next_week = driver.find_elements(By.XPATH,)\n",
    "    # Add 7 days\n",
    "    # next_week = given_date + timedelta(days=7)\n",
    "    next_week = given_date + timedelta(days=2)\n",
    "\n",
    "    \n",
    "    # Extract year, month, and day\n",
    "    year, month, day = next_week.year, next_week.month, next_week.day\n",
    "    year = str(year)\n",
    "    month = str(month)\n",
    "    day = str(day)\n",
    "    bad_class=\"single-date-select-mobile\"\n",
    "    xpath = f'//button[@data-year={year} and @data-month={month} and @data-day={day} and not(contains(@class,\"{bad_class}\"))]'\n",
    "    next_week = wait.until(EC.element_to_be_clickable((By.XPATH, xpath)))\n",
    "    # if len(next_day) != 1:\n",
    "    #     print(\"Next week not working\")\n",
    "    next_week.click()"
   ]
  },
  {
   "cell_type": "code",
   "execution_count": 483,
   "metadata": {},
   "outputs": [],
   "source": [
    "def wait_for_element(driver, locator, timeout=10):\n",
    "    try:\n",
    "        WebDriverWait(driver, timeout).until(\n",
    "            lambda x: len(x.find_elements(*locator)) > 2\n",
    "        )\n",
    "        return True\n",
    "    except:\n",
    "        return False"
   ]
  },
  {
   "cell_type": "code",
   "execution_count": null,
   "metadata": {},
   "outputs": [],
   "source": [
    "def make_bookings(court_link):\n",
    "    bookings_made = []\n",
    "    wait = WebDriverWait(driver, 10)\n",
    "    driver.get(court_link)\n",
    "    go_to_right_day(wait)\n",
    "    # Find all booking cards\n",
    "    # time_slots = wait.until(EC.presence_of_all_elements_located((By.CLASS_NAME, \"program-instance-card\")))\n",
    "    wait_for_element(driver, (By.CLASS_NAME, \"program-instance-card\"))\n",
    "    time_slots = driver.find_elements(By.CLASS_NAME, \"program-instance-card\")\n",
    "    \n",
    "    for time_slot in time_slots:\n",
    "        # Get the spot availability text\n",
    "        spots_element = time_slot.find_element(By.CLASS_NAME, \"spots-tag\")\n",
    "        spots_text = spots_element.text.strip()\n",
    "        print(spots_text)\n",
    "        select_button = time_slot.find_element(By.CLASS_NAME, \"program-select-btn\")\n",
    "        # Only proceed if there are spots left\n",
    "        if \"No spots left\" not in spots_text and \\\n",
    "                \"disabled\" not in select_button.get_attribute(\"class\") and \\\n",
    "                select_button.is_enabled():\n",
    "\n",
    "            # Get the time\n",
    "            time_element = time_slot.find_element(By.CLASS_NAME, \"instance-time-header\")\n",
    "            time_text = time_element.text.strip()\n",
    "\n",
    "            # Find the correct div with title=\"Location\"\n",
    "            location_div = time_slot.find_element(By.XPATH, './/div[@title=\"Location\"]')\n",
    "            # Extract court name from the <p> tag inside\n",
    "            court_name = location_div.find_element(By.TAG_NAME, \"p\").text.replace(\"location_on\", \"\").strip()\n",
    "\n",
    "            select_button.click()\n",
    "            # Wait for the \"Register\" button and click it\n",
    "            register_button = wait.until(EC.element_to_be_clickable((By.ID, 'registerBtn')))\n",
    "            register_button.click()\n",
    "            # Proceed to Checkout\n",
    "            to_checkout_class = \"btn-NextRegistrationStep\"\n",
    "            xpath = f'//button[contains(@class,\"{to_checkout_class}\")]'\n",
    "            wait_for_element(driver, (By.XPATH, xpath))\n",
    "            # to_checkout_button = wait.until(EC.element_to_be_clickable((By.XPATH, xpath)))\n",
    "            element = driver.find_element(By.XPATH, xpath)\n",
    "            ActionChains(driver).move_to_element(element).click().perform()\n",
    "\n",
    "            # Checkout\n",
    "            checkout_button_id = \"checkoutButton\"\n",
    "            checkout_button = wait.until(EC.element_to_be_clickable((By.ID, checkout_button_id)))\n",
    "            checkout_button.click()\n",
    "\n",
    "            # Final Proceed to Checkout - Checkout Button LOL\n",
    "            btn_checkout_cart_id = \"btnCheckoutCart\"\n",
    "            btn_checkout_cart = wait.until(EC.element_to_be_clickable((By.ID, btn_checkout_cart_id)))\n",
    "            btn_checkout_cart.click()\n",
    "\n",
    "            # Store booking details\n",
    "            bookings_made.append({\"time\": time_text, \"court_name\": court_name})\n",
    "            print(bookings_made)\n",
    "            return bookings_made\n",
    "    return bookings_made\n",
    "\n"
   ]
  },
  {
   "cell_type": "code",
   "execution_count": 485,
   "metadata": {},
   "outputs": [
    {
     "name": "stdout",
     "output_type": "stream",
     "text": [
      "Right arrow not found, just skip for now\n",
      "No Spots Left\n",
      "1 Spot Left\n",
      "[{'time': '1:30 PM - 3:00 PM', 'court_name': 'Indoor Tennis Court 6'}]\n"
     ]
    },
    {
     "ename": "StaleElementReferenceException",
     "evalue": "Message: stale element reference: stale element not found\n  (Session info: chrome=133.0.6943.127); For documentation on this error, please visit: https://www.selenium.dev/documentation/webdriver/troubleshooting/errors#stale-element-reference-exception\nStacktrace:\n0   chromedriver                        0x0000000100ef2b58 cxxbridge1$str$ptr + 2724820\n1   chromedriver                        0x0000000100eeb1b8 cxxbridge1$str$ptr + 2693684\n2   chromedriver                        0x0000000100a51afc cxxbridge1$string$len + 93348\n3   chromedriver                        0x0000000100a62054 cxxbridge1$string$len + 160252\n4   chromedriver                        0x0000000100a61108 cxxbridge1$string$len + 156336\n5   chromedriver                        0x0000000100a58110 cxxbridge1$string$len + 119480\n6   chromedriver                        0x0000000100a567b0 cxxbridge1$string$len + 112984\n7   chromedriver                        0x0000000100a598e0 cxxbridge1$string$len + 125576\n8   chromedriver                        0x0000000100a59988 cxxbridge1$string$len + 125744\n9   chromedriver                        0x0000000100a984f0 cxxbridge1$string$len + 382616\n10  chromedriver                        0x0000000100a8e0bc cxxbridge1$string$len + 340580\n11  chromedriver                        0x0000000100ad9b94 cxxbridge1$string$len + 650556\n12  chromedriver                        0x0000000100a8cba0 cxxbridge1$string$len + 335176\n13  chromedriver                        0x0000000100ebb610 cxxbridge1$str$ptr + 2498188\n14  chromedriver                        0x0000000100ebe924 cxxbridge1$str$ptr + 2511264\n15  chromedriver                        0x0000000100ea0cb0 cxxbridge1$str$ptr + 2389292\n16  chromedriver                        0x0000000100ebf1cc cxxbridge1$str$ptr + 2513480\n17  chromedriver                        0x0000000100e91c98 cxxbridge1$str$ptr + 2327828\n18  chromedriver                        0x0000000100edb880 cxxbridge1$str$ptr + 2629884\n19  chromedriver                        0x0000000100edba08 cxxbridge1$str$ptr + 2630276\n20  chromedriver                        0x0000000100eeae2c cxxbridge1$str$ptr + 2692776\n21  libsystem_pthread.dylib             0x0000000199446f94 _pthread_start + 136\n22  libsystem_pthread.dylib             0x0000000199441d34 thread_start + 8\n",
     "output_type": "error",
     "traceback": [
      "\u001b[0;31m---------------------------------------------------------------------------\u001b[0m",
      "\u001b[0;31mStaleElementReferenceException\u001b[0m            Traceback (most recent call last)",
      "Cell \u001b[0;32mIn[485], line 4\u001b[0m\n\u001b[1;32m      2\u001b[0m \u001b[38;5;28;01mfor\u001b[39;00m court, court_link \u001b[38;5;129;01min\u001b[39;00m courts\u001b[38;5;241m.\u001b[39mitems():\n\u001b[1;32m      3\u001b[0m     court_link \u001b[38;5;241m=\u001b[39m courts[\u001b[38;5;124m'\u001b[39m\u001b[38;5;124mMurr Tennis: Court 6 (1.5 Hours)\u001b[39m\u001b[38;5;124m'\u001b[39m]\n\u001b[0;32m----> 4\u001b[0m     bookings_made \u001b[38;5;241m=\u001b[39m \u001b[43mmake_bookings\u001b[49m\u001b[43m(\u001b[49m\u001b[43mcourt_link\u001b[49m\u001b[43m)\u001b[49m\n",
      "Cell \u001b[0;32mIn[484], line 13\u001b[0m, in \u001b[0;36mmake_bookings\u001b[0;34m(court_link)\u001b[0m\n\u001b[1;32m      9\u001b[0m time_slots \u001b[38;5;241m=\u001b[39m driver\u001b[38;5;241m.\u001b[39mfind_elements(By\u001b[38;5;241m.\u001b[39mCLASS_NAME, \u001b[38;5;124m\"\u001b[39m\u001b[38;5;124mprogram-instance-card\u001b[39m\u001b[38;5;124m\"\u001b[39m)\n\u001b[1;32m     11\u001b[0m \u001b[38;5;28;01mfor\u001b[39;00m time_slot \u001b[38;5;129;01min\u001b[39;00m time_slots:\n\u001b[1;32m     12\u001b[0m     \u001b[38;5;66;03m# Get the spot availability text\u001b[39;00m\n\u001b[0;32m---> 13\u001b[0m     spots_element \u001b[38;5;241m=\u001b[39m \u001b[43mtime_slot\u001b[49m\u001b[38;5;241;43m.\u001b[39;49m\u001b[43mfind_element\u001b[49m\u001b[43m(\u001b[49m\u001b[43mBy\u001b[49m\u001b[38;5;241;43m.\u001b[39;49m\u001b[43mCLASS_NAME\u001b[49m\u001b[43m,\u001b[49m\u001b[43m \u001b[49m\u001b[38;5;124;43m\"\u001b[39;49m\u001b[38;5;124;43mspots-tag\u001b[39;49m\u001b[38;5;124;43m\"\u001b[39;49m\u001b[43m)\u001b[49m\n\u001b[1;32m     14\u001b[0m     spots_text \u001b[38;5;241m=\u001b[39m spots_element\u001b[38;5;241m.\u001b[39mtext\u001b[38;5;241m.\u001b[39mstrip()\n\u001b[1;32m     15\u001b[0m     \u001b[38;5;28mprint\u001b[39m(spots_text)\n",
      "File \u001b[0;32m~/Documents/Personal/Tennis/Bots/.venv/lib/python3.9/site-packages/selenium/webdriver/remote/webelement.py:408\u001b[0m, in \u001b[0;36mWebElement.find_element\u001b[0;34m(self, by, value)\u001b[0m\n\u001b[1;32m    398\u001b[0m \u001b[38;5;250m\u001b[39m\u001b[38;5;124;03m\"\"\"Find an element given a By strategy and locator.\u001b[39;00m\n\u001b[1;32m    399\u001b[0m \n\u001b[1;32m    400\u001b[0m \u001b[38;5;124;03m:Usage:\u001b[39;00m\n\u001b[0;32m   (...)\u001b[0m\n\u001b[1;32m    405\u001b[0m \u001b[38;5;124;03m:rtype: WebElement\u001b[39;00m\n\u001b[1;32m    406\u001b[0m \u001b[38;5;124;03m\"\"\"\u001b[39;00m\n\u001b[1;32m    407\u001b[0m by, value \u001b[38;5;241m=\u001b[39m \u001b[38;5;28mself\u001b[39m\u001b[38;5;241m.\u001b[39m_parent\u001b[38;5;241m.\u001b[39mlocator_converter\u001b[38;5;241m.\u001b[39mconvert(by, value)\n\u001b[0;32m--> 408\u001b[0m \u001b[38;5;28;01mreturn\u001b[39;00m \u001b[38;5;28;43mself\u001b[39;49m\u001b[38;5;241;43m.\u001b[39;49m\u001b[43m_execute\u001b[49m\u001b[43m(\u001b[49m\u001b[43mCommand\u001b[49m\u001b[38;5;241;43m.\u001b[39;49m\u001b[43mFIND_CHILD_ELEMENT\u001b[49m\u001b[43m,\u001b[49m\u001b[43m \u001b[49m\u001b[43m{\u001b[49m\u001b[38;5;124;43m\"\u001b[39;49m\u001b[38;5;124;43musing\u001b[39;49m\u001b[38;5;124;43m\"\u001b[39;49m\u001b[43m:\u001b[49m\u001b[43m \u001b[49m\u001b[43mby\u001b[49m\u001b[43m,\u001b[49m\u001b[43m \u001b[49m\u001b[38;5;124;43m\"\u001b[39;49m\u001b[38;5;124;43mvalue\u001b[39;49m\u001b[38;5;124;43m\"\u001b[39;49m\u001b[43m:\u001b[49m\u001b[43m \u001b[49m\u001b[43mvalue\u001b[49m\u001b[43m}\u001b[49m\u001b[43m)\u001b[49m[\u001b[38;5;124m\"\u001b[39m\u001b[38;5;124mvalue\u001b[39m\u001b[38;5;124m\"\u001b[39m]\n",
      "File \u001b[0;32m~/Documents/Personal/Tennis/Bots/.venv/lib/python3.9/site-packages/selenium/webdriver/remote/webelement.py:395\u001b[0m, in \u001b[0;36mWebElement._execute\u001b[0;34m(self, command, params)\u001b[0m\n\u001b[1;32m    393\u001b[0m     params \u001b[38;5;241m=\u001b[39m {}\n\u001b[1;32m    394\u001b[0m params[\u001b[38;5;124m\"\u001b[39m\u001b[38;5;124mid\u001b[39m\u001b[38;5;124m\"\u001b[39m] \u001b[38;5;241m=\u001b[39m \u001b[38;5;28mself\u001b[39m\u001b[38;5;241m.\u001b[39m_id\n\u001b[0;32m--> 395\u001b[0m \u001b[38;5;28;01mreturn\u001b[39;00m \u001b[38;5;28;43mself\u001b[39;49m\u001b[38;5;241;43m.\u001b[39;49m\u001b[43m_parent\u001b[49m\u001b[38;5;241;43m.\u001b[39;49m\u001b[43mexecute\u001b[49m\u001b[43m(\u001b[49m\u001b[43mcommand\u001b[49m\u001b[43m,\u001b[49m\u001b[43m \u001b[49m\u001b[43mparams\u001b[49m\u001b[43m)\u001b[49m\n",
      "File \u001b[0;32m~/Documents/Personal/Tennis/Bots/.venv/lib/python3.9/site-packages/selenium/webdriver/remote/webdriver.py:384\u001b[0m, in \u001b[0;36mWebDriver.execute\u001b[0;34m(self, driver_command, params)\u001b[0m\n\u001b[1;32m    382\u001b[0m response \u001b[38;5;241m=\u001b[39m \u001b[38;5;28mself\u001b[39m\u001b[38;5;241m.\u001b[39mcommand_executor\u001b[38;5;241m.\u001b[39mexecute(driver_command, params)\n\u001b[1;32m    383\u001b[0m \u001b[38;5;28;01mif\u001b[39;00m response:\n\u001b[0;32m--> 384\u001b[0m     \u001b[38;5;28;43mself\u001b[39;49m\u001b[38;5;241;43m.\u001b[39;49m\u001b[43merror_handler\u001b[49m\u001b[38;5;241;43m.\u001b[39;49m\u001b[43mcheck_response\u001b[49m\u001b[43m(\u001b[49m\u001b[43mresponse\u001b[49m\u001b[43m)\u001b[49m\n\u001b[1;32m    385\u001b[0m     response[\u001b[38;5;124m\"\u001b[39m\u001b[38;5;124mvalue\u001b[39m\u001b[38;5;124m\"\u001b[39m] \u001b[38;5;241m=\u001b[39m \u001b[38;5;28mself\u001b[39m\u001b[38;5;241m.\u001b[39m_unwrap_value(response\u001b[38;5;241m.\u001b[39mget(\u001b[38;5;124m\"\u001b[39m\u001b[38;5;124mvalue\u001b[39m\u001b[38;5;124m\"\u001b[39m, \u001b[38;5;28;01mNone\u001b[39;00m))\n\u001b[1;32m    386\u001b[0m     \u001b[38;5;28;01mreturn\u001b[39;00m response\n",
      "File \u001b[0;32m~/Documents/Personal/Tennis/Bots/.venv/lib/python3.9/site-packages/selenium/webdriver/remote/errorhandler.py:232\u001b[0m, in \u001b[0;36mErrorHandler.check_response\u001b[0;34m(self, response)\u001b[0m\n\u001b[1;32m    230\u001b[0m         alert_text \u001b[38;5;241m=\u001b[39m value[\u001b[38;5;124m\"\u001b[39m\u001b[38;5;124malert\u001b[39m\u001b[38;5;124m\"\u001b[39m]\u001b[38;5;241m.\u001b[39mget(\u001b[38;5;124m\"\u001b[39m\u001b[38;5;124mtext\u001b[39m\u001b[38;5;124m\"\u001b[39m)\n\u001b[1;32m    231\u001b[0m     \u001b[38;5;28;01mraise\u001b[39;00m exception_class(message, screen, stacktrace, alert_text)  \u001b[38;5;66;03m# type: ignore[call-arg]  # mypy is not smart enough here\u001b[39;00m\n\u001b[0;32m--> 232\u001b[0m \u001b[38;5;28;01mraise\u001b[39;00m exception_class(message, screen, stacktrace)\n",
      "\u001b[0;31mStaleElementReferenceException\u001b[0m: Message: stale element reference: stale element not found\n  (Session info: chrome=133.0.6943.127); For documentation on this error, please visit: https://www.selenium.dev/documentation/webdriver/troubleshooting/errors#stale-element-reference-exception\nStacktrace:\n0   chromedriver                        0x0000000100ef2b58 cxxbridge1$str$ptr + 2724820\n1   chromedriver                        0x0000000100eeb1b8 cxxbridge1$str$ptr + 2693684\n2   chromedriver                        0x0000000100a51afc cxxbridge1$string$len + 93348\n3   chromedriver                        0x0000000100a62054 cxxbridge1$string$len + 160252\n4   chromedriver                        0x0000000100a61108 cxxbridge1$string$len + 156336\n5   chromedriver                        0x0000000100a58110 cxxbridge1$string$len + 119480\n6   chromedriver                        0x0000000100a567b0 cxxbridge1$string$len + 112984\n7   chromedriver                        0x0000000100a598e0 cxxbridge1$string$len + 125576\n8   chromedriver                        0x0000000100a59988 cxxbridge1$string$len + 125744\n9   chromedriver                        0x0000000100a984f0 cxxbridge1$string$len + 382616\n10  chromedriver                        0x0000000100a8e0bc cxxbridge1$string$len + 340580\n11  chromedriver                        0x0000000100ad9b94 cxxbridge1$string$len + 650556\n12  chromedriver                        0x0000000100a8cba0 cxxbridge1$string$len + 335176\n13  chromedriver                        0x0000000100ebb610 cxxbridge1$str$ptr + 2498188\n14  chromedriver                        0x0000000100ebe924 cxxbridge1$str$ptr + 2511264\n15  chromedriver                        0x0000000100ea0cb0 cxxbridge1$str$ptr + 2389292\n16  chromedriver                        0x0000000100ebf1cc cxxbridge1$str$ptr + 2513480\n17  chromedriver                        0x0000000100e91c98 cxxbridge1$str$ptr + 2327828\n18  chromedriver                        0x0000000100edb880 cxxbridge1$str$ptr + 2629884\n19  chromedriver                        0x0000000100edba08 cxxbridge1$str$ptr + 2630276\n20  chromedriver                        0x0000000100eeae2c cxxbridge1$str$ptr + 2692776\n21  libsystem_pthread.dylib             0x0000000199446f94 _pthread_start + 136\n22  libsystem_pthread.dylib             0x0000000199441d34 thread_start + 8\n"
     ]
    }
   ],
   "source": [
    "available_times_all = {}\n",
    "for court, court_link in courts.items():\n",
    "    court_link = courts['Murr Tennis: Court 6 (1.5 Hours)']\n",
    "    bookings_made = make_bookings(court_link)\n",
    "\n"
   ]
  },
  {
   "cell_type": "code",
   "execution_count": 412,
   "metadata": {},
   "outputs": [],
   "source": [
    "cookies = driver.get_cookies()\n"
   ]
  },
  {
   "cell_type": "code",
   "execution_count": 431,
   "metadata": {},
   "outputs": [],
   "source": [
    "with open(\"login_cookies.pkl\", \"wb\") as file:\n",
    "    pickle.dump([cookies[2]], file)"
   ]
  },
  {
   "cell_type": "code",
   "execution_count": 382,
   "metadata": {},
   "outputs": [],
   "source": [
    "def test_login_cookie(driver, cookie):\n",
    "    driver.delete_all_cookies()  # Clear all cookies\n",
    "    driver.add_cookie(cookie)    # Add a single cookie\n",
    "    driver.refresh()             # Refresh the page\n",
    "\n",
    "\n"
   ]
  },
  {
   "cell_type": "code",
   "execution_count": 391,
   "metadata": {},
   "outputs": [],
   "source": [
    "cookie = cookies[2]\n",
    "test_login_cookie(driver, cookie)\n",
    "\n"
   ]
  },
  {
   "cell_type": "code",
   "execution_count": 398,
   "metadata": {},
   "outputs": [],
   "source": [
    "cookies = pickle.load(open(\"login_cookie.pkl\", \"rb\"))\n"
   ]
  },
  {
   "cell_type": "code",
   "execution_count": 425,
   "metadata": {},
   "outputs": [],
   "source": [
    "cookies = driver.get_cookies().copy()"
   ]
  },
  {
   "cell_type": "code",
   "execution_count": 426,
   "metadata": {},
   "outputs": [
    {
     "data": {
      "text/plain": [
       "{'domain': 'membership.gocrimson.com',\n",
       " 'httpOnly': True,\n",
       " 'name': '__RequestVerificationToken',\n",
       " 'path': '/',\n",
       " 'sameSite': 'Lax',\n",
       " 'secure': True,\n",
       " 'value': 'Bu2Znfni7ltG7yYnxdAJmoaJiHAX4fPoCRLhcvTTiMUlUhUEiSzVju2DEPWVdREJTonOKloUc7IUd0Kt6VYx2idmK_tMTjtDdcFMrSzYiDM1'}"
      ]
     },
     "execution_count": 426,
     "metadata": {},
     "output_type": "execute_result"
    }
   ],
   "source": [
    "cookies.pop(5)"
   ]
  },
  {
   "cell_type": "code",
   "execution_count": null,
   "metadata": {},
   "outputs": [
    {
     "ename": "ValueError",
     "evalue": "list.remove(x): x not in list",
     "output_type": "error",
     "traceback": [
      "\u001b[0;31m---------------------------------------------------------------------------\u001b[0m",
      "\u001b[0;31mValueError\u001b[0m                                Traceback (most recent call last)",
      "Cell \u001b[0;32mIn[422], line 1\u001b[0m\n\u001b[0;32m----> 1\u001b[0m \u001b[43mcookies\u001b[49m\u001b[38;5;241;43m.\u001b[39;49m\u001b[43mremove\u001b[49m\u001b[43m(\u001b[49m\u001b[43m{\u001b[49m\u001b[38;5;124;43m'\u001b[39;49m\u001b[38;5;124;43mdomain\u001b[39;49m\u001b[38;5;124;43m'\u001b[39;49m\u001b[43m:\u001b[49m\u001b[43m \u001b[49m\u001b[38;5;124;43m'\u001b[39;49m\u001b[38;5;124;43m.membership.gocrimson.com\u001b[39;49m\u001b[38;5;124;43m'\u001b[39;49m\u001b[43m,\u001b[49m\n\u001b[1;32m      2\u001b[0m \u001b[43m  \u001b[49m\u001b[38;5;124;43m'\u001b[39;49m\u001b[38;5;124;43mhttpOnly\u001b[39;49m\u001b[38;5;124;43m'\u001b[39;49m\u001b[43m:\u001b[49m\u001b[43m \u001b[49m\u001b[38;5;28;43;01mTrue\u001b[39;49;00m\u001b[43m,\u001b[49m\n\u001b[1;32m      3\u001b[0m \u001b[43m  \u001b[49m\u001b[38;5;124;43m'\u001b[39;49m\u001b[38;5;124;43mname\u001b[39;49m\u001b[38;5;124;43m'\u001b[39;49m\u001b[43m:\u001b[49m\u001b[43m \u001b[49m\u001b[38;5;124;43m'\u001b[39;49m\u001b[38;5;124;43m.AspNet.ApplicationCookie\u001b[39;49m\u001b[38;5;124;43m'\u001b[39;49m\u001b[43m,\u001b[49m\n\u001b[1;32m      4\u001b[0m \u001b[43m  \u001b[49m\u001b[38;5;124;43m'\u001b[39;49m\u001b[38;5;124;43mpath\u001b[39;49m\u001b[38;5;124;43m'\u001b[39;49m\u001b[43m:\u001b[49m\u001b[43m \u001b[49m\u001b[38;5;124;43m'\u001b[39;49m\u001b[38;5;124;43m/\u001b[39;49m\u001b[38;5;124;43m'\u001b[39;49m\u001b[43m,\u001b[49m\n\u001b[1;32m      5\u001b[0m \u001b[43m  \u001b[49m\u001b[38;5;124;43m'\u001b[39;49m\u001b[38;5;124;43msameSite\u001b[39;49m\u001b[38;5;124;43m'\u001b[39;49m\u001b[43m:\u001b[49m\u001b[43m \u001b[49m\u001b[38;5;124;43m'\u001b[39;49m\u001b[38;5;124;43mNone\u001b[39;49m\u001b[38;5;124;43m'\u001b[39;49m\u001b[43m,\u001b[49m\n\u001b[1;32m      6\u001b[0m \u001b[43m  \u001b[49m\u001b[38;5;124;43m'\u001b[39;49m\u001b[38;5;124;43msecure\u001b[39;49m\u001b[38;5;124;43m'\u001b[39;49m\u001b[43m:\u001b[49m\u001b[43m \u001b[49m\u001b[38;5;28;43;01mTrue\u001b[39;49;00m\u001b[43m,\u001b[49m\n\u001b[1;32m      7\u001b[0m \u001b[43m  \u001b[49m\u001b[38;5;124;43m'\u001b[39;49m\u001b[38;5;124;43mvalue\u001b[39;49m\u001b[38;5;124;43m'\u001b[39;49m\u001b[43m:\u001b[49m\u001b[43m \u001b[49m\u001b[38;5;124;43m'\u001b[39;49m\u001b[38;5;124;43msU7_C9SBQuOhqUWXGI1K0_ToMOy8iKybo2HuQrtyqw3EPYwdHdXTCKiGyqVAF7smVxTefuE5xnh4eT_Vomgk-qv-TSdxHQnKIAnnryHIBwBgNBHLTbxuh7teSzCoq6PiD88NZUrP5XmLKRxpUo5DhACj2dl4vPaXbvy5-AJOXvcqSXTu5wi_vsLO11EUIgibIl_MYrfAJM3dLq2fE-rYJiyY04DzwSiul7zCzNvwKaBbXs_wOitFivzt9xZFoOKjzAK6LJwT6s-sqlBWBO_ouYd6Ifa1ct3dfMA9UWdohFCIb9t1FfNB6exc7jMHYnRlmesS1i45A2UOSoOQbya2n4Fpn4TX-HcZYuWMEpS-6hc\u001b[39;49m\u001b[38;5;124;43m'\u001b[39;49m\u001b[43m}\u001b[49m\n\u001b[1;32m      8\u001b[0m \u001b[43m)\u001b[49m\n",
      "\u001b[0;31mValueError\u001b[0m: list.remove(x): x not in list"
     ]
    }
   ],
   "source": [
    "cookies.remove(\n",
    "    {'domain': '.membership.gocrimson.com',\n",
    "  'httpOnly': True,\n",
    "  'name': '.AspNet.ApplicationCookie',\n",
    "  'path': '/',\n",
    "  'sameSite': 'None',\n",
    "  'secure': True,\n",
    "  'value': 'sU7_C9SBQuOhqUWXGI1K0_ToMOy8iKybo2HuQrtyqw3EPYwdHdXTCKiGyqVAF7smVxTefuE5xnh4eT_Vomgk-qv-TSdxHQnKIAnnryHIBwBgNBHLTbxuh7teSzCoq6PiD88NZUrP5XmLKRxpUo5DhACj2dl4vPaXbvy5-AJOXvcqSXTu5wi_vsLO11EUIgibIl_MYrfAJM3dLq2fE-rYJiyY04DzwSiul7zCzNvwKaBbXs_wOitFivzt9xZFoOKjzAK6LJwT6s-sqlBWBO_ouYd6Ifa1ct3dfMA9UWdohFCIb9t1FfNB6exc7jMHYnRlmesS1i45A2UOSoOQbya2n4Fpn4TX-HcZYuWMEpS-6hc'}\n",
    ")"
   ]
  },
  {
   "cell_type": "code",
   "execution_count": 429,
   "metadata": {},
   "outputs": [
    {
     "data": {
      "text/plain": [
       "[{'domain': '.gocrimson.com',\n",
       "  'expiry': 1774764434,\n",
       "  'httpOnly': False,\n",
       "  'name': '_ga',\n",
       "  'path': '/',\n",
       "  'sameSite': 'None',\n",
       "  'secure': True,\n",
       "  'value': 'GA1.1.1413137966.1740204219'},\n",
       " {'domain': '.gocrimson.com',\n",
       "  'expiry': 1774764434,\n",
       "  'httpOnly': False,\n",
       "  'name': '_ga_M56NV9ZJ4H',\n",
       "  'path': '/',\n",
       "  'sameSite': 'None',\n",
       "  'secure': True,\n",
       "  'value': 'GS1.1.1740204218.1.1.1740204434.0.0.0'},\n",
       " {'domain': 'membership.gocrimson.com',\n",
       "  'httpOnly': True,\n",
       "  'name': '.AspNet.ApplicationCookie',\n",
       "  'path': '/',\n",
       "  'sameSite': 'None',\n",
       "  'secure': True,\n",
       "  'value': '5VUrhB1_wOgHQNwoT59IJsrSRPgL2ArjsxMZiEL6DU2knR7HQSUTRsL4qINVRpwmkRLmTOPqAis-dP6pIOc0rv6ipw7GoFjIG-CI4NocTIFzsx8LWOwsdP2-K7jbpNKFsB43lTVuq3DnrI6-7b8yPKVV_4VzMFBH0t9InqSAAjsPpyREqShQiZO93121JI6ZbAvPdoxnwIBDKs4e-Yh0bRMHjDIv8I_ccf1njyJ2fATKvzKHRVx3a8nOOSMBUAINdZOPb9RStUOxbjLI1ucZJsPlJTjzNJ1wk_VwELb0EOpBIudwR-WrwnmdwV6beh0Tc4lIzeuHQD55Fk83wvhXppsxpTQHG8tK2qfSQ2D0hME'},\n",
       " {'domain': '.gocrimson.com',\n",
       "  'expiry': 1740290834,\n",
       "  'httpOnly': False,\n",
       "  'name': '_gid',\n",
       "  'path': '/',\n",
       "  'sameSite': 'None',\n",
       "  'secure': True,\n",
       "  'value': 'GA1.2.1325973183.1740204219'},\n",
       " {'domain': '.membership.gocrimson.com',\n",
       "  'httpOnly': True,\n",
       "  'name': '.AspNet.ApplicationCookie',\n",
       "  'path': '/',\n",
       "  'sameSite': 'None',\n",
       "  'secure': True,\n",
       "  'value': 'sU7_C9SBQuOhqUWXGI1K0_ToMOy8iKybo2HuQrtyqw3EPYwdHdXTCKiGyqVAF7smVxTefuE5xnh4eT_Vomgk-qv-TSdxHQnKIAnnryHIBwBgNBHLTbxuh7teSzCoq6PiD88NZUrP5XmLKRxpUo5DhACj2dl4vPaXbvy5-AJOXvcqSXTu5wi_vsLO11EUIgibIl_MYrfAJM3dLq2fE-rYJiyY04DzwSiul7zCzNvwKaBbXs_wOitFivzt9xZFoOKjzAK6LJwT6s-sqlBWBO_ouYd6Ifa1ct3dfMA9UWdohFCIb9t1FfNB6exc7jMHYnRlmesS1i45A2UOSoOQbya2n4Fpn4TX-HcZYuWMEpS-6hc'},\n",
       " {'domain': 'membership.gocrimson.com',\n",
       "  'httpOnly': True,\n",
       "  'name': 'ASP.NET_SessionId',\n",
       "  'path': '/',\n",
       "  'sameSite': 'None',\n",
       "  'secure': True,\n",
       "  'value': 'xds22rujazdzv0ib4nxieb3k'}]"
      ]
     },
     "execution_count": 429,
     "metadata": {},
     "output_type": "execute_result"
    }
   ],
   "source": [
    "cookies"
   ]
  },
  {
   "cell_type": "code",
   "execution_count": 434,
   "metadata": {},
   "outputs": [
    {
     "data": {
      "text/plain": [
       "[{'domain': '.gocrimson.com',\n",
       "  'expiry': 1774764819,\n",
       "  'httpOnly': False,\n",
       "  'name': '_ga',\n",
       "  'path': '/',\n",
       "  'sameSite': 'None',\n",
       "  'secure': True,\n",
       "  'value': 'GA1.1.1413137966.1740204219'},\n",
       " {'domain': '.gocrimson.com',\n",
       "  'expiry': 1774764819,\n",
       "  'httpOnly': False,\n",
       "  'name': '_ga_M56NV9ZJ4H',\n",
       "  'path': '/',\n",
       "  'sameSite': 'None',\n",
       "  'secure': True,\n",
       "  'value': 'GS1.1.1740204218.1.1.1740204819.0.0.0'},\n",
       " {'domain': '.gocrimson.com',\n",
       "  'expiry': 1740291219,\n",
       "  'httpOnly': False,\n",
       "  'name': '_gid',\n",
       "  'path': '/',\n",
       "  'sameSite': 'None',\n",
       "  'secure': True,\n",
       "  'value': 'GA1.2.1325973183.1740204219'},\n",
       " {'domain': '.membership.gocrimson.com',\n",
       "  'httpOnly': True,\n",
       "  'name': '.AspNet.ApplicationCookie',\n",
       "  'path': '/',\n",
       "  'sameSite': 'None',\n",
       "  'secure': True,\n",
       "  'value': '5VUrhB1_wOgHQNwoT59IJsrSRPgL2ArjsxMZiEL6DU2knR7HQSUTRsL4qINVRpwmkRLmTOPqAis-dP6pIOc0rv6ipw7GoFjIG-CI4NocTIFzsx8LWOwsdP2-K7jbpNKFsB43lTVuq3DnrI6-7b8yPKVV_4VzMFBH0t9InqSAAjsPpyREqShQiZO93121JI6ZbAvPdoxnwIBDKs4e-Yh0bRMHjDIv8I_ccf1njyJ2fATKvzKHRVx3a8nOOSMBUAINdZOPb9RStUOxbjLI1ucZJsPlJTjzNJ1wk_VwELb0EOpBIudwR-WrwnmdwV6beh0Tc4lIzeuHQD55Fk83wvhXppsxpTQHG8tK2qfSQ2D0hME'},\n",
       " {'domain': 'membership.gocrimson.com',\n",
       "  'httpOnly': True,\n",
       "  'name': '__RequestVerificationToken',\n",
       "  'path': '/',\n",
       "  'sameSite': 'Lax',\n",
       "  'secure': True,\n",
       "  'value': 'Bu2Znfni7ltG7yYnxdAJmoaJiHAX4fPoCRLhcvTTiMUlUhUEiSzVju2DEPWVdREJTonOKloUc7IUd0Kt6VYx2idmK_tMTjtDdcFMrSzYiDM1'},\n",
       " {'domain': '.membership.gocrimson.com',\n",
       "  'httpOnly': True,\n",
       "  'name': 'ASP.NET_SessionId',\n",
       "  'path': '/',\n",
       "  'sameSite': 'None',\n",
       "  'secure': True,\n",
       "  'value': 'xds22rujazdzv0ib4nxieb3k'},\n",
       " {'domain': 'membership.gocrimson.com',\n",
       "  'httpOnly': True,\n",
       "  'name': 'ASP.NET_SessionId',\n",
       "  'path': '/',\n",
       "  'sameSite': 'None',\n",
       "  'secure': True,\n",
       "  'value': 'xds22rujazdzv0ib4nxieb3k'}]"
      ]
     },
     "execution_count": 434,
     "metadata": {},
     "output_type": "execute_result"
    }
   ],
   "source": [
    "driver.get_cookies()"
   ]
  },
  {
   "cell_type": "code",
   "execution_count": 452,
   "metadata": {},
   "outputs": [
    {
     "name": "stdout",
     "output_type": "stream",
     "text": [
      "Chrome browser version: 133.0.6943.127\n"
     ]
    }
   ],
   "source": [
    "from selenium import webdriver\n",
    "\n",
    "driver = webdriver.Chrome()\n",
    "browser_version = driver.capabilities['browserVersion']\n",
    "print(f\"Chrome browser version: {browser_version}\")\n"
   ]
  },
  {
   "cell_type": "code",
   "execution_count": 453,
   "metadata": {},
   "outputs": [
    {
     "name": "stdout",
     "output_type": "stream",
     "text": [
      "3.5.5\n"
     ]
    }
   ],
   "source": [
    "import undetected_chromedriver as uc\n",
    "print(uc.__version__)"
   ]
  },
  {
   "cell_type": "code",
   "execution_count": 13,
   "metadata": {},
   "outputs": [
    {
     "ename": "NoSuchWindowException",
     "evalue": "Message: no such window: target window already closed\nfrom unknown error: web view not found\n  (Session info: chrome=133.0.6943.127)\nStacktrace:\n0   chromedriver                        0x000000010341ab58 cxxbridge1$str$ptr + 2724820\n1   chromedriver                        0x00000001034131b8 cxxbridge1$str$ptr + 2693684\n2   chromedriver                        0x0000000102f79afc cxxbridge1$string$len + 93348\n3   chromedriver                        0x0000000102f534d4 chromedriver + 128212\n4   chromedriver                        0x0000000102fe8b24 cxxbridge1$string$len + 548044\n5   chromedriver                        0x0000000103001694 cxxbridge1$string$len + 649276\n6   chromedriver                        0x0000000102fb4ba0 cxxbridge1$string$len + 335176\n7   chromedriver                        0x00000001033e3610 cxxbridge1$str$ptr + 2498188\n8   chromedriver                        0x00000001033e6924 cxxbridge1$str$ptr + 2511264\n9   chromedriver                        0x00000001033c8cb0 cxxbridge1$str$ptr + 2389292\n10  chromedriver                        0x00000001033e71cc cxxbridge1$str$ptr + 2513480\n11  chromedriver                        0x00000001033b9c98 cxxbridge1$str$ptr + 2327828\n12  chromedriver                        0x0000000103403880 cxxbridge1$str$ptr + 2629884\n13  chromedriver                        0x0000000103403a08 cxxbridge1$str$ptr + 2630276\n14  chromedriver                        0x0000000103412e2c cxxbridge1$str$ptr + 2692776\n15  libsystem_pthread.dylib             0x0000000199446f94 _pthread_start + 136\n16  libsystem_pthread.dylib             0x0000000199441d34 thread_start + 8\n",
     "output_type": "error",
     "traceback": [
      "\u001b[0;31m---------------------------------------------------------------------------\u001b[0m",
      "\u001b[0;31mNoSuchWindowException\u001b[0m                     Traceback (most recent call last)",
      "Cell \u001b[0;32mIn[13], line 8\u001b[0m\n\u001b[1;32m      5\u001b[0m chrome_options\u001b[38;5;241m.\u001b[39madd_experimental_option(\u001b[38;5;124m\"\u001b[39m\u001b[38;5;124mdebuggerAddress\u001b[39m\u001b[38;5;124m\"\u001b[39m, \u001b[38;5;124m\"\u001b[39m\u001b[38;5;124mlocalhost:9222\u001b[39m\u001b[38;5;124m\"\u001b[39m)\n\u001b[1;32m      7\u001b[0m driver \u001b[38;5;241m=\u001b[39m webdriver\u001b[38;5;241m.\u001b[39mChrome(options\u001b[38;5;241m=\u001b[39mchrome_options)\n\u001b[0;32m----> 8\u001b[0m \u001b[43mdriver\u001b[49m\u001b[38;5;241;43m.\u001b[39;49m\u001b[43mget\u001b[49m\u001b[43m(\u001b[49m\u001b[38;5;124;43m\"\u001b[39;49m\u001b[38;5;124;43mgoogle.com\u001b[39;49m\u001b[38;5;124;43m\"\u001b[39;49m\u001b[43m)\u001b[49m\n",
      "File \u001b[0;32m~/Documents/Personal/Tennis/Bots/.venv/lib/python3.9/site-packages/selenium/webdriver/remote/webdriver.py:454\u001b[0m, in \u001b[0;36mWebDriver.get\u001b[0;34m(self, url)\u001b[0m\n\u001b[1;32m    436\u001b[0m \u001b[38;5;28;01mdef\u001b[39;00m\u001b[38;5;250m \u001b[39m\u001b[38;5;21mget\u001b[39m(\u001b[38;5;28mself\u001b[39m, url: \u001b[38;5;28mstr\u001b[39m) \u001b[38;5;241m-\u001b[39m\u001b[38;5;241m>\u001b[39m \u001b[38;5;28;01mNone\u001b[39;00m:\n\u001b[1;32m    437\u001b[0m \u001b[38;5;250m    \u001b[39m\u001b[38;5;124;03m\"\"\"Navigate the browser to the specified URL in the current window or\u001b[39;00m\n\u001b[1;32m    438\u001b[0m \u001b[38;5;124;03m    tab.\u001b[39;00m\n\u001b[1;32m    439\u001b[0m \n\u001b[0;32m   (...)\u001b[0m\n\u001b[1;32m    452\u001b[0m \u001b[38;5;124;03m    >>> driver.get(\"https://example.com\")\u001b[39;00m\n\u001b[1;32m    453\u001b[0m \u001b[38;5;124;03m    \"\"\"\u001b[39;00m\n\u001b[0;32m--> 454\u001b[0m     \u001b[38;5;28;43mself\u001b[39;49m\u001b[38;5;241;43m.\u001b[39;49m\u001b[43mexecute\u001b[49m\u001b[43m(\u001b[49m\u001b[43mCommand\u001b[49m\u001b[38;5;241;43m.\u001b[39;49m\u001b[43mGET\u001b[49m\u001b[43m,\u001b[49m\u001b[43m \u001b[49m\u001b[43m{\u001b[49m\u001b[38;5;124;43m\"\u001b[39;49m\u001b[38;5;124;43murl\u001b[39;49m\u001b[38;5;124;43m\"\u001b[39;49m\u001b[43m:\u001b[49m\u001b[43m \u001b[49m\u001b[43murl\u001b[49m\u001b[43m}\u001b[49m\u001b[43m)\u001b[49m\n",
      "File \u001b[0;32m~/Documents/Personal/Tennis/Bots/.venv/lib/python3.9/site-packages/selenium/webdriver/remote/webdriver.py:429\u001b[0m, in \u001b[0;36mWebDriver.execute\u001b[0;34m(self, driver_command, params)\u001b[0m\n\u001b[1;32m    427\u001b[0m response \u001b[38;5;241m=\u001b[39m \u001b[38;5;28mself\u001b[39m\u001b[38;5;241m.\u001b[39mcommand_executor\u001b[38;5;241m.\u001b[39mexecute(driver_command, params)\n\u001b[1;32m    428\u001b[0m \u001b[38;5;28;01mif\u001b[39;00m response:\n\u001b[0;32m--> 429\u001b[0m     \u001b[38;5;28;43mself\u001b[39;49m\u001b[38;5;241;43m.\u001b[39;49m\u001b[43merror_handler\u001b[49m\u001b[38;5;241;43m.\u001b[39;49m\u001b[43mcheck_response\u001b[49m\u001b[43m(\u001b[49m\u001b[43mresponse\u001b[49m\u001b[43m)\u001b[49m\n\u001b[1;32m    430\u001b[0m     response[\u001b[38;5;124m\"\u001b[39m\u001b[38;5;124mvalue\u001b[39m\u001b[38;5;124m\"\u001b[39m] \u001b[38;5;241m=\u001b[39m \u001b[38;5;28mself\u001b[39m\u001b[38;5;241m.\u001b[39m_unwrap_value(response\u001b[38;5;241m.\u001b[39mget(\u001b[38;5;124m\"\u001b[39m\u001b[38;5;124mvalue\u001b[39m\u001b[38;5;124m\"\u001b[39m, \u001b[38;5;28;01mNone\u001b[39;00m))\n\u001b[1;32m    431\u001b[0m     \u001b[38;5;28;01mreturn\u001b[39;00m response\n",
      "File \u001b[0;32m~/Documents/Personal/Tennis/Bots/.venv/lib/python3.9/site-packages/selenium/webdriver/remote/errorhandler.py:232\u001b[0m, in \u001b[0;36mErrorHandler.check_response\u001b[0;34m(self, response)\u001b[0m\n\u001b[1;32m    230\u001b[0m         alert_text \u001b[38;5;241m=\u001b[39m value[\u001b[38;5;124m\"\u001b[39m\u001b[38;5;124malert\u001b[39m\u001b[38;5;124m\"\u001b[39m]\u001b[38;5;241m.\u001b[39mget(\u001b[38;5;124m\"\u001b[39m\u001b[38;5;124mtext\u001b[39m\u001b[38;5;124m\"\u001b[39m)\n\u001b[1;32m    231\u001b[0m     \u001b[38;5;28;01mraise\u001b[39;00m exception_class(message, screen, stacktrace, alert_text)  \u001b[38;5;66;03m# type: ignore[call-arg]  # mypy is not smart enough here\u001b[39;00m\n\u001b[0;32m--> 232\u001b[0m \u001b[38;5;28;01mraise\u001b[39;00m exception_class(message, screen, stacktrace)\n",
      "\u001b[0;31mNoSuchWindowException\u001b[0m: Message: no such window: target window already closed\nfrom unknown error: web view not found\n  (Session info: chrome=133.0.6943.127)\nStacktrace:\n0   chromedriver                        0x000000010341ab58 cxxbridge1$str$ptr + 2724820\n1   chromedriver                        0x00000001034131b8 cxxbridge1$str$ptr + 2693684\n2   chromedriver                        0x0000000102f79afc cxxbridge1$string$len + 93348\n3   chromedriver                        0x0000000102f534d4 chromedriver + 128212\n4   chromedriver                        0x0000000102fe8b24 cxxbridge1$string$len + 548044\n5   chromedriver                        0x0000000103001694 cxxbridge1$string$len + 649276\n6   chromedriver                        0x0000000102fb4ba0 cxxbridge1$string$len + 335176\n7   chromedriver                        0x00000001033e3610 cxxbridge1$str$ptr + 2498188\n8   chromedriver                        0x00000001033e6924 cxxbridge1$str$ptr + 2511264\n9   chromedriver                        0x00000001033c8cb0 cxxbridge1$str$ptr + 2389292\n10  chromedriver                        0x00000001033e71cc cxxbridge1$str$ptr + 2513480\n11  chromedriver                        0x00000001033b9c98 cxxbridge1$str$ptr + 2327828\n12  chromedriver                        0x0000000103403880 cxxbridge1$str$ptr + 2629884\n13  chromedriver                        0x0000000103403a08 cxxbridge1$str$ptr + 2630276\n14  chromedriver                        0x0000000103412e2c cxxbridge1$str$ptr + 2692776\n15  libsystem_pthread.dylib             0x0000000199446f94 _pthread_start + 136\n16  libsystem_pthread.dylib             0x0000000199441d34 thread_start + 8\n"
     ]
    }
   ],
   "source": [
    "from selenium import webdriver\n",
    "from selenium.webdriver.chrome.options import Options\n",
    "\n",
    "chrome_options = Options()\n",
    "chrome_options.add_experimental_option(\"debuggerAddress\", \"localhost:9222\")\n",
    "\n",
    "driver = webdriver.Chrome(options=chrome_options)\n",
    "driver.get(\"google.com\")\n"
   ]
  },
  {
   "cell_type": "code",
   "execution_count": 17,
   "metadata": {},
   "outputs": [
    {
     "name": "stdout",
     "output_type": "stream",
     "text": [
      "Page loaded successfully\n"
     ]
    }
   ],
   "source": [
    "from selenium.common.exceptions import NoSuchWindowException\n",
    "try:\n",
    "    driver = webdriver.Chrome(options=chrome_options)\n",
    "    driver.get(\"https://www.google.com\")  # Use the full URL\n",
    "    \n",
    "    # Wait for a specific element to be present before proceeding\n",
    "    WebDriverWait(driver, 10).until(\n",
    "        EC.presence_of_element_located((By.NAME, \"q\"))\n",
    "    )\n",
    "    print(\"Page loaded successfully\")\n",
    "except NoSuchWindowException:\n",
    "    print(\"NoSuchWindowException occurred. Make sure Chrome is running in debug mode.\")\n",
    "except Exception as e:\n",
    "    print(f\"An error occurred: {str(e)}\")\n",
    "finally:\n",
    "    if 'driver' in locals():\n",
    "        driver.quit()"
   ]
  },
  {
   "cell_type": "code",
   "execution_count": null,
   "metadata": {},
   "outputs": [],
   "source": []
  }
 ],
 "metadata": {
  "kernelspec": {
   "display_name": ".venv",
   "language": "python",
   "name": "python3"
  },
  "language_info": {
   "codemirror_mode": {
    "name": "ipython",
    "version": 3
   },
   "file_extension": ".py",
   "mimetype": "text/x-python",
   "name": "python",
   "nbconvert_exporter": "python",
   "pygments_lexer": "ipython3",
   "version": "3.9.6"
  }
 },
 "nbformat": 4,
 "nbformat_minor": 2
}
